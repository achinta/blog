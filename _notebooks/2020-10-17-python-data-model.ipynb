{
 "cells": [
  {
   "cell_type": "markdown",
   "metadata": {},
   "source": [
    "# Understanding the python data model\n",
    "by following the documentation ...https://docs.python.org/3.9/reference/datamodel.html\n",
    "\n",
    "## 3.1 Objects, values and types\n",
    "Objects are python's abstraction for data. Every object has \n",
    "\n",
    "1. identity (not changeable)\n",
    "2. type (not changeable)\n",
    "3. value (changeable for objects)\n",
    "\n",
    "#### 3.1.1 identity\n",
    "An objects identity never changes once it has been created. It can be thought of as the objects address in memory. It can be accessed using the `id` method\n",
    "\n",
    "The `is` operator compares the identity of two objects - whether they refer to the same object."
   ]
  },
  {
   "cell_type": "code",
   "execution_count": 26,
   "metadata": {},
   "outputs": [
    {
     "name": "stdout",
     "output_type": "stream",
     "text": [
      "identiy of class - 140253866597016\n",
      "identity of object - 4514956064\n",
      "id of 3 is 4475962864\n",
      "id of None is 4475682680\n"
     ]
    }
   ],
   "source": [
    "class MyMath(object):\n",
    "    def add(self, a, b):\n",
    "        return a + b\n",
    "\n",
    "print(f'identiy of class - {id(MyMath)}')\n",
    "\n",
    "math = MyMath()\n",
    "print(f'identity of object - {id(math)}')\n",
    "\n",
    "# lets create another object\n",
    "math2 = MyMath()\n",
    "\n",
    "# check \n",
    "math is math2\n",
    "\n",
    "print(f'id of 3 is {id(3)}')\n",
    "print(f'id of None is {id(None)}')"
   ]
  },
  {
   "cell_type": "markdown",
   "metadata": {},
   "source": [
    "#### 3.1.2 type\n",
    "type() function return an objects type (which is also an object). \n",
    "\n",
    "Types affect almost all aspects of object behaviour Even the importance of object identity is affected in some sense: for immutable types, operations that compute new values may actually return a reference to any existing object with same type and value, while for mutable objects it is not allowed. "
   ]
  },
  {
   "cell_type": "code",
   "execution_count": 21,
   "metadata": {},
   "outputs": [
    {
     "name": "stdout",
     "output_type": "stream",
     "text": [
      "id of returned value 5 is 4475962928\n",
      "id of returned value 5 is 4475962928\n",
      "id 5 is 4475962928\n"
     ]
    }
   ],
   "source": [
    "print(f'id of returned value 5 is {id(math.add(2,3))}')\n",
    "print(f'id of returned value 5 is {id(math.add(3,2))}')\n",
    "print(f'id 5 is {id(5)}')"
   ]
  },
  {
   "cell_type": "markdown",
   "metadata": {},
   "source": [
    "So we are referring to the same memory location when we refer to 5 during these three lines. "
   ]
  },
  {
   "cell_type": "markdown",
   "metadata": {},
   "source": [
    "#### 3.1.3 value\n",
    "The value of some objects can change. An objects mutability is determined by its type.\n",
    "- `mutable` - numbers, strings, tuples\n",
    "- `immutable` - Dictionaries, lists\n",
    "\n",
    "## 3.2 The standard type hierarchy\n",
    "Not covering everything here. \n",
    "\n",
    "#### Bytes\n",
    "A bytes object is an immutable array. The items are 8-bit bytes, represented by integers in the range 0 <= x < 256. Bytes literals (like b'abc') and the built-in bytes() constructor can be used to create bytes objects. Also, bytes objects can be decoded to strings via the decode() method.\n",
    "\n",
    "#### Byte Arrays\n",
    "It is an mutable array, created by bytearray() constructor. Otherwise, they provide the same interface and functionality as the immutable bytes object. \n",
    "\n",
    "### Callable Types\n",
    "#### user-defined functions\n",
    "Note that many of these function object attributes are writable (check the link)"
   ]
  },
  {
   "cell_type": "code",
   "execution_count": 59,
   "metadata": {},
   "outputs": [
    {
     "name": "stdout",
     "output_type": "stream",
     "text": [
      "__name__ - add\n",
      "__qualname__ - add\n",
      "__module__ - __main__\n",
      "__defaults__ - (3,)\n",
      "__code__ - <code object add at 0x10d1aeed0, file \"<ipython-input-59-9d81faad02a5>\", line 1>\n",
      "__dict__ - {}\n",
      "__annotations__ - {}\n",
      "__kwdefaults__ - None\n"
     ]
    }
   ],
   "source": [
    "def add(a, b=3):\n",
    "    return a + b\n",
    "\n",
    "attrs = ['__name__', '__qualname__', '__module__', '__defaults__', '__code__', '__dict__', '__annotations__', \n",
    "         '__kwdefaults__']\n",
    "\n",
    "for attr in attrs:\n",
    "    print(f'{attr} - {getattr(add, attr)}')"
   ]
  },
  {
   "cell_type": "markdown",
   "metadata": {},
   "source": [
    "The list of all attributes of a function object can be seen using `dir(method)`\n",
    "\n",
    "The function objects also support getting and setting of arbitrary attributes, which can be used, for example, to attach metadata to functions. "
   ]
  },
  {
   "cell_type": "code",
   "execution_count": 65,
   "metadata": {},
   "outputs": [
    {
     "name": "stdout",
     "output_type": "stream",
     "text": [
      "new attribute added is - this is a new attr\n"
     ]
    }
   ],
   "source": [
    "add.newattr = 'this is a new attr'\n",
    "print(f'new attribute added is - {add.newattr}')"
   ]
  },
  {
   "cell_type": "markdown",
   "metadata": {},
   "source": [
    "Instance methods have additional attributs like __self__\n",
    "We can read, but not set arbitrary function attributes. "
   ]
  },
  {
   "cell_type": "code",
   "execution_count": 67,
   "metadata": {},
   "outputs": [
    {
     "data": {
      "text/plain": [
       "3"
      ]
     },
     "execution_count": 67,
     "metadata": {},
     "output_type": "execute_result"
    }
   ],
   "source": [
    "MyMath.add(math, 2,1)"
   ]
  },
  {
   "cell_type": "code",
   "execution_count": null,
   "metadata": {},
   "outputs": [],
   "source": []
  }
 ],
 "metadata": {
  "kernelspec": {
   "display_name": "Python 3",
   "language": "python",
   "name": "python3"
  },
  "language_info": {
   "codemirror_mode": {
    "name": "ipython",
    "version": 3
   },
   "file_extension": ".py",
   "mimetype": "text/x-python",
   "name": "python",
   "nbconvert_exporter": "python",
   "pygments_lexer": "ipython3",
   "version": "3.6.8"
  }
 },
 "nbformat": 4,
 "nbformat_minor": 2
}
